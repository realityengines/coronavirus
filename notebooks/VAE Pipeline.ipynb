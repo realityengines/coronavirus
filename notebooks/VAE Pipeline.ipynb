{
 "cells": [
  {
   "cell_type": "code",
   "execution_count": null,
   "metadata": {},
   "outputs": [],
   "source": [
    "%load_ext autoreload\n",
    "%autoreload 2\n",
    "%matplotlib inline"
   ]
  },
  {
   "cell_type": "code",
   "execution_count": null,
   "metadata": {},
   "outputs": [],
   "source": [
    "import numpy as np\n",
    "import matplotlib.pyplot as plt\n",
    "from scipy import stats\n",
    "import pandas as pd\n",
    "\n",
    "plt.style.use('seaborn-notebook')"
   ]
  },
  {
   "cell_type": "code",
   "execution_count": null,
   "metadata": {},
   "outputs": [],
   "source": [
    "DATA_FILE = '../data/level5_1000.csv'"
   ]
  },
  {
   "cell_type": "code",
   "execution_count": null,
   "metadata": {},
   "outputs": [],
   "source": [
    "df = pd.read_csv(DATA_FILE)"
   ]
  },
  {
   "cell_type": "code",
   "execution_count": null,
   "metadata": {
    "scrolled": true
   },
   "outputs": [],
   "source": [
    "df.head()"
   ]
  },
  {
   "cell_type": "code",
   "execution_count": null,
   "metadata": {},
   "outputs": [],
   "source": [
    "import torch\n",
    "import torch.nn as nn\n",
    "import torch.nn.functional as F\n",
    "import torch.optim as optim\n",
    "from torch.utils.data import Dataset, DataLoader"
   ]
  },
  {
   "cell_type": "code",
   "execution_count": null,
   "metadata": {},
   "outputs": [],
   "source": [
    "class Lincs(Dataset):\n",
    "\n",
    "    def __init__(self):\n",
    "        super().__init__()\n",
    "        self.df = pd.read_csv(DATA_FILE)\n",
    "    \n",
    "    def shape(self):\n",
    "        return self.df.shape\n",
    "    \n",
    "    def __len__(self):\n",
    "        return self.df.shape[1]-1\n",
    "    \n",
    "    def __getitem__(self, idx):\n",
    "        return torch.as_tensor(self.df.iloc[:,idx+1].values, dtype=torch.float32)\n",
    "\n",
    "lincs = Lincs()\n",
    "dloader = DataLoader(lincs, 32)"
   ]
  },
  {
   "cell_type": "code",
   "execution_count": null,
   "metadata": {},
   "outputs": [],
   "source": [
    "class VAE(nn.Module):\n",
    "    def __init__(self, input_shape, dim_1, dim_2):\n",
    "        super().__init__()\n",
    "        self.fc1 = nn.Linear(input_shape, dim_1)\n",
    "        self.fc2 = nn.Linear(dim_1, dim_1)\n",
    "        self.enc_mu = nn.Linear(dim_1, dim_2)\n",
    "        self.enc_logvar = nn.Linear(dim_1, dim_2)\n",
    "        \n",
    "        self.fc_out1 = nn.Linear(dim_2, dim_1)\n",
    "        self.fc_out2 = nn.Linear(dim_1, dim_1)\n",
    "        self.out = nn.Linear(dim_1, input_shape)\n",
    "            \n",
    "    def encode(self, x):\n",
    "        hid = F.relu(self.fc1(x))\n",
    "        hid = F.relu(self.fc2(hid))\n",
    "        return self.enc_mu(hid), self.enc_logvar(hid)\n",
    "    \n",
    "    def reparameterize(self, mu, logvar):\n",
    "        std = torch.exp(0.5*logvar)\n",
    "        eps = torch.randn_like(std)\n",
    "        return mu + eps*std\n",
    "    \n",
    "    def decode(self, z):\n",
    "        hid = F.relu(self.fc_out1(z))\n",
    "        hid = F.relu(self.fc_out2(hid))\n",
    "        return self.out(hid)\n",
    "    \n",
    "    def forward(self, t):\n",
    "        mu, logvar = self.encode(t)\n",
    "        z = self.reparameterize(mu, logvar)\n",
    "        return self.decode(z), mu, logvar        "
   ]
  },
  {
   "cell_type": "code",
   "execution_count": null,
   "metadata": {},
   "outputs": [],
   "source": [
    "def loss_function(recon_x, x, mu, logvar):\n",
    "    mse = F.mse_loss(x, recon_x, reduction='sum')\n",
    "    kld = 0.5*(mu.pow(2).sum(dim=-1) + torch.exp(logvar).sum(dim=-1) - (logvar+1).sum(dim=-1))\n",
    "    \n",
    "    return (mse + kld).sum(dim=-1)\n",
    "\n",
    "def train(epoch):\n",
    "    \n",
    "    model.train()\n",
    "    train_loss = 0\n",
    "    for batch_idx, x in enumerate(dloader):\n",
    "        x = x.to(device)\n",
    "        optimizer.zero_grad()\n",
    "        recon_batch, mu, logvar = model(x)\n",
    "        loss = loss_function(recon_batch, x, mu, logvar)\n",
    "        loss.backward()\n",
    "        train_loss += loss.item()\n",
    "        optimizer.step()\n",
    "    return train_loss / len(dloader)\n",
    "\n",
    "def run(epochs=1000):\n",
    "\n",
    "    train_losses = []\n",
    "    for epoch in range(1000):\n",
    "        train_losses.append(train(epoch))\n",
    "        if epoch % 100 == 0:\n",
    "            print(f'=======> Epoch: {epoch} Average loss: {train_losses[-1]}')\n",
    "    plt.plot(np.arange(len(train_losses)), train_losses)"
   ]
  },
  {
   "cell_type": "code",
   "execution_count": null,
   "metadata": {},
   "outputs": [],
   "source": [
    "for dims in [(64, 7), (64, 32), (256, 128), (256, 32), (128, 32), (128, 64)]:\n",
    "    dim_1 = dims[0]\n",
    "    dim_2 = dims[1]\n",
    "\n",
    "    seed = 2\n",
    "    np.random.seed(seed)\n",
    "    torch.manual_seed(seed)\n",
    "    torch.cuda.manual_seed(seed)\n",
    "    torch.manual_seed(seed)\n",
    "\n",
    "    model = VAE(lincs.shape()[0], dim_1=64, dim_2=7)\n",
    "    device = torch.device(\"cuda:0\" if torch.cuda.is_available() else \"cpu\")\n",
    "    model.to(device)\n",
    "    optimizer = optim.Adam(model.parameters(), lr=1e-3)\n",
    "\n",
    "    print(dims)\n",
    "    run(epochs=500)"
   ]
  },
  {
   "cell_type": "code",
   "execution_count": null,
   "metadata": {},
   "outputs": [],
   "source": []
  }
 ],
 "metadata": {
  "kernelspec": {
   "display_name": "Python 3",
   "language": "python",
   "name": "python3"
  },
  "language_info": {
   "codemirror_mode": {
    "name": "ipython",
    "version": 3
   },
   "file_extension": ".py",
   "mimetype": "text/x-python",
   "name": "python",
   "nbconvert_exporter": "python",
   "pygments_lexer": "ipython3",
   "version": "3.6.6"
  }
 },
 "nbformat": 4,
 "nbformat_minor": 4
}
