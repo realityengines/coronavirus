{
 "cells": [
  {
   "cell_type": "markdown",
   "metadata": {},
   "source": [
    "### Dataset\n",
    " - Download the 20GB dataset here:\n",
    " - https://www.ncbi.nlm.nih.gov/geo/query/acc.cgi?acc=GSE92742\n",
    " - scroll down to the table, and download the 6th dataset with this filename:\n",
    " - 'GSE92742_Broad_LINCS_Level5_COMPZ.MODZ_n473647x12328.gctx.gz'\n",
    " - unzip it with gunzip\n",
    "  - the data is in a 'gctx' format, which is a superset of a pandas dataframe\n",
    "  - just run `pip install cmapPy`"
   ]
  },
  {
   "cell_type": "code",
   "execution_count": null,
   "metadata": {},
   "outputs": [],
   "source": [
    "import pandas as pd\n",
    "from cmapPy.pandasGEXpress.parse import parse"
   ]
  },
  {
   "cell_type": "code",
   "execution_count": null,
   "metadata": {},
   "outputs": [],
   "source": [
    "file = '/Users/colinwhite/Downloads/GSE92742_Broad_LINCS_Level5_COMPZ.MODZ_n473647x12328.gctx'"
   ]
  },
  {
   "cell_type": "code",
   "execution_count": null,
   "metadata": {},
   "outputs": [],
   "source": [
    "# load the entire 20GB file (slowed down my computer for a few min)\n",
    "full_file = False\n",
    "if full_file:\n",
    "    df = parse(file)\n",
    "    df.data_df.head()"
   ]
  },
  {
   "cell_type": "code",
   "execution_count": null,
   "metadata": {},
   "outputs": [],
   "source": [
    "# load a subset of the dataset\n",
    "num = 1000\n",
    "metadata = parse(file, col_meta_only=True)\n",
    "ids = []\n",
    "for i,d in enumerate(list(metadata.index)):\n",
    "    if i < num:\n",
    "        ids.append(d)\n",
    "\n",
    "df_subset = parse(file, cid=ids)\n",
    "df_subset.data_df.to_csv('level5_{}.csv'.format(num))\n"
   ]
  },
  {
   "cell_type": "code",
   "execution_count": null,
   "metadata": {},
   "outputs": [],
   "source": [
    "df_subset.data_df.shape"
   ]
  },
  {
   "cell_type": "code",
   "execution_count": null,
   "metadata": {},
   "outputs": [],
   "source": [
    "df_subset.data_df.head()"
   ]
  },
  {
   "cell_type": "code",
   "execution_count": null,
   "metadata": {},
   "outputs": [],
   "source": [
    "# create a csv of the subset\n",
    "make_csv = False\n",
    "if make_csv:\n",
    "    df_subset.to_csv('level5_10.csv', index = False)"
   ]
  },
  {
   "cell_type": "code",
   "execution_count": null,
   "metadata": {},
   "outputs": [],
   "source": []
  }
 ],
 "metadata": {
  "kernelspec": {
   "display_name": "Python 3",
   "language": "python",
   "name": "python3"
  },
  "language_info": {
   "codemirror_mode": {
    "name": "ipython",
    "version": 3
   },
   "file_extension": ".py",
   "mimetype": "text/x-python",
   "name": "python",
   "nbconvert_exporter": "python",
   "pygments_lexer": "ipython3",
   "version": "3.7.7"
  }
 },
 "nbformat": 4,
 "nbformat_minor": 4
}
